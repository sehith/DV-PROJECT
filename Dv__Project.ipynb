{
  "nbformat": 4,
  "nbformat_minor": 0,
  "metadata": {
    "colab": {
      "name": "Dv_ Project.ipynb",
      "provenance": [],
      "collapsed_sections": []
    },
    "kernelspec": {
      "display_name": "Python 3",
      "language": "python",
      "name": "python3"
    },
    "language_info": {
      "codemirror_mode": {
        "name": "ipython",
        "version": 3
      },
      "file_extension": ".py",
      "mimetype": "text/x-python",
      "name": "python",
      "nbconvert_exporter": "python",
      "pygments_lexer": "ipython3",
      "version": "3.7.6"
    }
  },
  "cells": [
    {
      "cell_type": "markdown",
      "metadata": {
        "id": "M4Lx2ps1y_At"
      },
      "source": [
        "# Uber Data Set Analysis"
      ]
    },
    {
      "cell_type": "markdown",
      "metadata": {
        "id": "ZEbjD2aNzOv4"
      },
      "source": [
        "### Nulu Rohinisree               - 20181CSE0499\n",
        "### P Gnaneshwari                 - 20181CSE0505\n",
        "### Palam Sehith Kumar Reddy      - 20181CSE0514\n",
        "### Pamidi Siri Chandhana         - 20181CSE0520\n",
        "### P Srivalli                    - 20181CSE0540"
      ]
    },
    {
      "cell_type": "markdown",
      "metadata": {
        "id": "SbwxbVDUkUR6"
      },
      "source": [
        "<br>\n",
        "\n",
        "##**Import The Necessary Libraries**"
      ]
    },
    {
      "cell_type": "code",
      "metadata": {
        "id": "Vy2A0SZ_eeMg"
      },
      "source": [
        "import pandas as pd\n",
        "import numpy as np\n",
        "import datetime\n",
        "import matplotlib\n",
        "import matplotlib.pyplot as plt\n",
        "import seaborn as sns\n",
        "import calendar"
      ],
      "execution_count": 2,
      "outputs": []
    },
    {
      "cell_type": "markdown",
      "metadata": {
        "id": "KFW0ZOQQsh5i"
      },
      "source": [
        "##Reading the data"
      ]
    },
    {
      "cell_type": "code",
      "metadata": {
        "colab": {
          "base_uri": "https://localhost:8080/",
          "height": 293
        },
        "id": "dQ8XS2H4lkeu",
        "outputId": "32cf7745-c6ef-4b54-9af5-e8d98a11063e"
      },
      "source": [
        "data=pd.read_csv('/content/Uber Drives - .csv')\n",
        "data.head()"
      ],
      "execution_count": 4,
      "outputs": [
        {
          "output_type": "execute_result",
          "data": {
            "text/html": [
              "<div>\n",
              "<style scoped>\n",
              "    .dataframe tbody tr th:only-of-type {\n",
              "        vertical-align: middle;\n",
              "    }\n",
              "\n",
              "    .dataframe tbody tr th {\n",
              "        vertical-align: top;\n",
              "    }\n",
              "\n",
              "    .dataframe thead th {\n",
              "        text-align: right;\n",
              "    }\n",
              "</style>\n",
              "<table border=\"1\" class=\"dataframe\">\n",
              "  <thead>\n",
              "    <tr style=\"text-align: right;\">\n",
              "      <th></th>\n",
              "      <th>START_DATE*</th>\n",
              "      <th>END_DATE*</th>\n",
              "      <th>CATEGORY*</th>\n",
              "      <th>START*</th>\n",
              "      <th>STOP*</th>\n",
              "      <th>MILES*</th>\n",
              "      <th>PURPOSE*</th>\n",
              "    </tr>\n",
              "  </thead>\n",
              "  <tbody>\n",
              "    <tr>\n",
              "      <th>0</th>\n",
              "      <td>1/1/2016 21:11</td>\n",
              "      <td>1/1/2016 21:17</td>\n",
              "      <td>Business</td>\n",
              "      <td>Fort Pierce</td>\n",
              "      <td>Fort Pierce</td>\n",
              "      <td>5.1</td>\n",
              "      <td>Meal/Entertain</td>\n",
              "    </tr>\n",
              "    <tr>\n",
              "      <th>1</th>\n",
              "      <td>1/2/2016 1:25</td>\n",
              "      <td>1/2/2016 1:37</td>\n",
              "      <td>Business</td>\n",
              "      <td>Fort Pierce</td>\n",
              "      <td>Fort Pierce</td>\n",
              "      <td>5.0</td>\n",
              "      <td>NaN</td>\n",
              "    </tr>\n",
              "    <tr>\n",
              "      <th>2</th>\n",
              "      <td>1/2/2016 20:25</td>\n",
              "      <td>1/2/2016 20:38</td>\n",
              "      <td>Business</td>\n",
              "      <td>Fort Pierce</td>\n",
              "      <td>Fort Pierce</td>\n",
              "      <td>4.8</td>\n",
              "      <td>Errand/Supplies</td>\n",
              "    </tr>\n",
              "    <tr>\n",
              "      <th>3</th>\n",
              "      <td>1/5/2016 17:31</td>\n",
              "      <td>1/5/2016 17:45</td>\n",
              "      <td>Business</td>\n",
              "      <td>Fort Pierce</td>\n",
              "      <td>Fort Pierce</td>\n",
              "      <td>4.7</td>\n",
              "      <td>Meeting</td>\n",
              "    </tr>\n",
              "    <tr>\n",
              "      <th>4</th>\n",
              "      <td>1/6/2016 14:42</td>\n",
              "      <td>1/6/2016 15:49</td>\n",
              "      <td>Business</td>\n",
              "      <td>Fort Pierce</td>\n",
              "      <td>West Palm Beach</td>\n",
              "      <td>63.7</td>\n",
              "      <td>Customer Visit</td>\n",
              "    </tr>\n",
              "  </tbody>\n",
              "</table>\n",
              "</div>"
            ],
            "text/plain": [
              "      START_DATE*       END_DATE*  ... MILES*         PURPOSE*\n",
              "0  1/1/2016 21:11  1/1/2016 21:17  ...    5.1   Meal/Entertain\n",
              "1   1/2/2016 1:25   1/2/2016 1:37  ...    5.0              NaN\n",
              "2  1/2/2016 20:25  1/2/2016 20:38  ...    4.8  Errand/Supplies\n",
              "3  1/5/2016 17:31  1/5/2016 17:45  ...    4.7          Meeting\n",
              "4  1/6/2016 14:42  1/6/2016 15:49  ...   63.7   Customer Visit\n",
              "\n",
              "[5 rows x 7 columns]"
            ]
          },
          "metadata": {},
          "execution_count": 4
        }
      ]
    },
    {
      "cell_type": "code",
      "metadata": {
        "colab": {
          "base_uri": "https://localhost:8080/",
          "height": 300
        },
        "id": "0wgtXm-4P2No",
        "outputId": "8f8ea49d-1c72-4d66-ad10-dead96af2b0d"
      },
      "source": [
        "data.describe()"
      ],
      "execution_count": null,
      "outputs": [
        {
          "output_type": "execute_result",
          "data": {
            "text/html": [
              "<div>\n",
              "<style scoped>\n",
              "    .dataframe tbody tr th:only-of-type {\n",
              "        vertical-align: middle;\n",
              "    }\n",
              "\n",
              "    .dataframe tbody tr th {\n",
              "        vertical-align: top;\n",
              "    }\n",
              "\n",
              "    .dataframe thead th {\n",
              "        text-align: right;\n",
              "    }\n",
              "</style>\n",
              "<table border=\"1\" class=\"dataframe\">\n",
              "  <thead>\n",
              "    <tr style=\"text-align: right;\">\n",
              "      <th></th>\n",
              "      <th>MILES*</th>\n",
              "    </tr>\n",
              "  </thead>\n",
              "  <tbody>\n",
              "    <tr>\n",
              "      <th>count</th>\n",
              "      <td>1156.000000</td>\n",
              "    </tr>\n",
              "    <tr>\n",
              "      <th>mean</th>\n",
              "      <td>21.115398</td>\n",
              "    </tr>\n",
              "    <tr>\n",
              "      <th>std</th>\n",
              "      <td>359.299007</td>\n",
              "    </tr>\n",
              "    <tr>\n",
              "      <th>min</th>\n",
              "      <td>0.500000</td>\n",
              "    </tr>\n",
              "    <tr>\n",
              "      <th>25%</th>\n",
              "      <td>2.900000</td>\n",
              "    </tr>\n",
              "    <tr>\n",
              "      <th>50%</th>\n",
              "      <td>6.000000</td>\n",
              "    </tr>\n",
              "    <tr>\n",
              "      <th>75%</th>\n",
              "      <td>10.400000</td>\n",
              "    </tr>\n",
              "    <tr>\n",
              "      <th>max</th>\n",
              "      <td>12204.700000</td>\n",
              "    </tr>\n",
              "  </tbody>\n",
              "</table>\n",
              "</div>"
            ],
            "text/plain": [
              "             MILES*\n",
              "count   1156.000000\n",
              "mean      21.115398\n",
              "std      359.299007\n",
              "min        0.500000\n",
              "25%        2.900000\n",
              "50%        6.000000\n",
              "75%       10.400000\n",
              "max    12204.700000"
            ]
          },
          "metadata": {},
          "execution_count": 3
        }
      ]
    },
    {
      "cell_type": "code",
      "metadata": {
        "colab": {
          "base_uri": "https://localhost:8080/"
        },
        "id": "21Eq8UBqQUic",
        "outputId": "20871275-640c-443c-f696-dfc1285ea3f7"
      },
      "source": [
        "data.shape"
      ],
      "execution_count": null,
      "outputs": [
        {
          "output_type": "execute_result",
          "data": {
            "text/plain": [
              "(1156, 7)"
            ]
          },
          "metadata": {},
          "execution_count": 4
        }
      ]
    },
    {
      "cell_type": "code",
      "metadata": {
        "id": "-31e1rQVTTiW",
        "colab": {
          "base_uri": "https://localhost:8080/"
        },
        "outputId": "ec28dee9-bb8a-46be-91c7-940b377de0cf"
      },
      "source": [
        "data.info()"
      ],
      "execution_count": null,
      "outputs": [
        {
          "output_type": "stream",
          "name": "stdout",
          "text": [
            "<class 'pandas.core.frame.DataFrame'>\n",
            "RangeIndex: 1156 entries, 0 to 1155\n",
            "Data columns (total 7 columns):\n",
            " #   Column       Non-Null Count  Dtype  \n",
            "---  ------       --------------  -----  \n",
            " 0   START_DATE*  1156 non-null   object \n",
            " 1   END_DATE*    1155 non-null   object \n",
            " 2   CATEGORY*    1155 non-null   object \n",
            " 3   START*       1155 non-null   object \n",
            " 4   STOP*        1155 non-null   object \n",
            " 5   MILES*       1156 non-null   float64\n",
            " 6   PURPOSE*     653 non-null    object \n",
            "dtypes: float64(1), object(6)\n",
            "memory usage: 63.3+ KB\n"
          ]
        }
      ]
    },
    {
      "cell_type": "markdown",
      "metadata": {
        "id": "gmXGrfxkowwo"
      },
      "source": [
        "##Checking for null values from data\n",
        "\n"
      ]
    },
    {
      "cell_type": "code",
      "metadata": {
        "colab": {
          "base_uri": "https://localhost:8080/"
        },
        "id": "CclElBEOov1N",
        "outputId": "9daae08c-215c-4185-9b60-549a7c11cc7b"
      },
      "source": [
        "data.isnull().any() "
      ],
      "execution_count": null,
      "outputs": [
        {
          "output_type": "execute_result",
          "data": {
            "text/plain": [
              "START_DATE*    False\n",
              "END_DATE*       True\n",
              "CATEGORY*       True\n",
              "START*          True\n",
              "STOP*           True\n",
              "MILES*         False\n",
              "PURPOSE*        True\n",
              "dtype: bool"
            ]
          },
          "metadata": {},
          "execution_count": 6
        }
      ]
    },
    {
      "cell_type": "code",
      "metadata": {
        "colab": {
          "base_uri": "https://localhost:8080/"
        },
        "id": "ZOPT92K4mcp-",
        "outputId": "a827192f-f62b-48f8-8a1e-c4cfaf603f98"
      },
      "source": [
        "data.isnull().sum()"
      ],
      "execution_count": null,
      "outputs": [
        {
          "output_type": "execute_result",
          "data": {
            "text/plain": [
              "START_DATE*      0\n",
              "END_DATE*        1\n",
              "CATEGORY*        1\n",
              "START*           1\n",
              "STOP*            1\n",
              "MILES*           0\n",
              "PURPOSE*       503\n",
              "dtype: int64"
            ]
          },
          "metadata": {},
          "execution_count": 7
        }
      ]
    },
    {
      "cell_type": "markdown",
      "metadata": {
        "id": "9GxDPFL3tFE8"
      },
      "source": [
        "##Heat map for the null values"
      ]
    },
    {
      "cell_type": "code",
      "metadata": {
        "colab": {
          "base_uri": "https://localhost:8080/",
          "height": 343
        },
        "id": "UafJYTw8qWLm",
        "outputId": "b403028d-ccd3-42d6-d145-8b0e7fb5eb41"
      },
      "source": [
        "sns.heatmap(data.isnull(), yticklabels=False, cmap = \"viridis\")"
      ],
      "execution_count": null,
      "outputs": [
        {
          "output_type": "execute_result",
          "data": {
            "text/plain": [
              "<matplotlib.axes._subplots.AxesSubplot at 0x7f23ee8772d0>"
            ]
          },
          "metadata": {},
          "execution_count": 8
        },
        {
          "output_type": "display_data",
          "data": {
            "image/png": "[encoded data removed]",
            "text/plain": [
              "<Figure size 432x288 with 2 Axes>"
            ]
          },
          "metadata": {
            "needs_background": "light"
          }
        }
      ]
    },
    {
      "cell_type": "code",
      "metadata": {
        "id": "Od5EdoYNm4A3"
      },
      "source": [
        "data=data.dropna()"
      ],
      "execution_count": null,
      "outputs": []
    },
    {
      "cell_type": "code",
      "metadata": {
        "colab": {
          "base_uri": "https://localhost:8080/"
        },
        "id": "nXoRd3IrrRv_",
        "outputId": "5c71e871-ca70-456e-be8e-fed422c221c3"
      },
      "source": [
        "data.isnull().sum()"
      ],
      "execution_count": null,
      "outputs": [
        {
          "output_type": "execute_result",
          "data": {
            "text/plain": [
              "START_DATE*    0\n",
              "END_DATE*      0\n",
              "CATEGORY*      0\n",
              "START*         0\n",
              "STOP*          0\n",
              "MILES*         0\n",
              "PURPOSE*       0\n",
              "dtype: int64"
            ]
          },
          "metadata": {},
          "execution_count": 10
        }
      ]
    },
    {
      "cell_type": "markdown",
      "metadata": {
        "id": "--PrrYaqtQlS"
      },
      "source": [
        "##Heatmap after dropping the null values"
      ]
    },
    {
      "cell_type": "code",
      "metadata": {
        "colab": {
          "base_uri": "https://localhost:8080/",
          "height": 343
        },
        "id": "HTEGYnR3qyxS",
        "outputId": "c5a3b070-9737-4d53-ec1b-aeb372472f02"
      },
      "source": [
        "data = data.dropna()\n",
        "sns.heatmap(data.isnull(),yticklabels=False, cmap=\"viridis\")"
      ],
      "execution_count": null,
      "outputs": [
        {
          "output_type": "execute_result",
          "data": {
            "text/plain": [
              "<matplotlib.axes._subplots.AxesSubplot at 0x7f23c88b3d90>"
            ]
          },
          "metadata": {},
          "execution_count": 11
        },
        {
          "output_type": "display_data",
          "data": {
            "image/png": "[encoded data removed]",
            "text/plain": [
              "<Figure size 432x288 with 2 Axes>"
            ]
          },
          "metadata": {
            "needs_background": "light"
          }
        }
      ]
    },
    {
      "cell_type": "markdown",
      "metadata": {
        "id": "BImlk5hHrU61"
      },
      "source": [
        "Now we can see that there are not missing values in the dataset."
      ]
    },
    {
      "cell_type": "code",
      "metadata": {
        "id": "kLs9MBaErTwc"
      },
      "source": [
        "data['START_DATE*'] = pd.to_datetime(data['START_DATE*'], format=\"%m/%d/%Y %H:%M\")\n",
        "data['END_DATE*'] = pd.to_datetime(data['END_DATE*'], format=\"%m/%d/%Y %H:%M\")"
      ],
      "execution_count": null,
      "outputs": []
    },
    {
      "cell_type": "code",
      "metadata": {
        "id": "tkHQXmywsLv0"
      },
      "source": [
        "hour=[]\n",
        "day=[]\n",
        "dayofweek=[]\n",
        "month=[]\n",
        "weekday=[]\n",
        "for x in data['START_DATE*']:\n",
        "    hour.append(x.hour)\n",
        "    day.append(x.day)\n",
        "    dayofweek.append(x.dayofweek)\n",
        "    month.append(x.month)\n",
        "    weekday.append(calendar.day_name[dayofweek[-1]])\n",
        "data['HOUR']=hour\n",
        "data['DAY']=day\n",
        "data['DAY_OF_WEEK']=dayofweek\n",
        "data['MONTH']=month\n",
        "data['WEEKDAY']=weekday"
      ],
      "execution_count": null,
      "outputs": []
    },
    {
      "cell_type": "code",
      "metadata": {
        "colab": {
          "base_uri": "https://localhost:8080/",
          "height": 206
        },
        "id": "d-Gf6hgvsds-",
        "outputId": "92d638da-f19f-436b-d196-53b83586f5a0"
      },
      "source": [
        "data.head()"
      ],
      "execution_count": null,
      "outputs": [
        {
          "output_type": "execute_result",
          "data": {
            "text/html": [
              "<div>\n",
              "<style scoped>\n",
              "    .dataframe tbody tr th:only-of-type {\n",
              "        vertical-align: middle;\n",
              "    }\n",
              "\n",
              "    .dataframe tbody tr th {\n",
              "        vertical-align: top;\n",
              "    }\n",
              "\n",
              "    .dataframe thead th {\n",
              "        text-align: right;\n",
              "    }\n",
              "</style>\n",
              "<table border=\"1\" class=\"dataframe\">\n",
              "  <thead>\n",
              "    <tr style=\"text-align: right;\">\n",
              "      <th></th>\n",
              "      <th>START_DATE*</th>\n",
              "      <th>END_DATE*</th>\n",
              "      <th>CATEGORY*</th>\n",
              "      <th>START*</th>\n",
              "      <th>STOP*</th>\n",
              "      <th>MILES*</th>\n",
              "      <th>PURPOSE*</th>\n",
              "      <th>HOUR</th>\n",
              "      <th>DAY</th>\n",
              "      <th>DAY_OF_WEEK</th>\n",
              "      <th>MONTH</th>\n",
              "      <th>WEEKDAY</th>\n",
              "    </tr>\n",
              "  </thead>\n",
              "  <tbody>\n",
              "    <tr>\n",
              "      <th>0</th>\n",
              "      <td>2016-01-01 21:11:00</td>\n",
              "      <td>2016-01-01 21:17:00</td>\n",
              "      <td>Business</td>\n",
              "      <td>Fort Pierce</td>\n",
              "      <td>Fort Pierce</td>\n",
              "      <td>5.1</td>\n",
              "      <td>Meal/Entertain</td>\n",
              "      <td>21</td>\n",
              "      <td>1</td>\n",
              "      <td>4</td>\n",
              "      <td>1</td>\n",
              "      <td>Friday</td>\n",
              "    </tr>\n",
              "    <tr>\n",
              "      <th>2</th>\n",
              "      <td>2016-01-02 20:25:00</td>\n",
              "      <td>2016-01-02 20:38:00</td>\n",
              "      <td>Business</td>\n",
              "      <td>Fort Pierce</td>\n",
              "      <td>Fort Pierce</td>\n",
              "      <td>4.8</td>\n",
              "      <td>Errand/Supplies</td>\n",
              "      <td>20</td>\n",
              "      <td>2</td>\n",
              "      <td>5</td>\n",
              "      <td>1</td>\n",
              "      <td>Saturday</td>\n",
              "    </tr>\n",
              "    <tr>\n",
              "      <th>3</th>\n",
              "      <td>2016-01-05 17:31:00</td>\n",
              "      <td>2016-01-05 17:45:00</td>\n",
              "      <td>Business</td>\n",
              "      <td>Fort Pierce</td>\n",
              "      <td>Fort Pierce</td>\n",
              "      <td>4.7</td>\n",
              "      <td>Meeting</td>\n",
              "      <td>17</td>\n",
              "      <td>5</td>\n",
              "      <td>1</td>\n",
              "      <td>1</td>\n",
              "      <td>Tuesday</td>\n",
              "    </tr>\n",
              "    <tr>\n",
              "      <th>4</th>\n",
              "      <td>2016-01-06 14:42:00</td>\n",
              "      <td>2016-01-06 15:49:00</td>\n",
              "      <td>Business</td>\n",
              "      <td>Fort Pierce</td>\n",
              "      <td>West Palm Beach</td>\n",
              "      <td>63.7</td>\n",
              "      <td>Customer Visit</td>\n",
              "      <td>14</td>\n",
              "      <td>6</td>\n",
              "      <td>2</td>\n",
              "      <td>1</td>\n",
              "      <td>Wednesday</td>\n",
              "    </tr>\n",
              "    <tr>\n",
              "      <th>5</th>\n",
              "      <td>2016-01-06 17:15:00</td>\n",
              "      <td>2016-01-06 17:19:00</td>\n",
              "      <td>Business</td>\n",
              "      <td>West Palm Beach</td>\n",
              "      <td>West Palm Beach</td>\n",
              "      <td>4.3</td>\n",
              "      <td>Meal/Entertain</td>\n",
              "      <td>17</td>\n",
              "      <td>6</td>\n",
              "      <td>2</td>\n",
              "      <td>1</td>\n",
              "      <td>Wednesday</td>\n",
              "    </tr>\n",
              "  </tbody>\n",
              "</table>\n",
              "</div>"
            ],
            "text/plain": [
              "          START_DATE*           END_DATE*  ... MONTH    WEEKDAY\n",
              "0 2016-01-01 21:11:00 2016-01-01 21:17:00  ...     1     Friday\n",
              "2 2016-01-02 20:25:00 2016-01-02 20:38:00  ...     1   Saturday\n",
              "3 2016-01-05 17:31:00 2016-01-05 17:45:00  ...     1    Tuesday\n",
              "4 2016-01-06 14:42:00 2016-01-06 15:49:00  ...     1  Wednesday\n",
              "5 2016-01-06 17:15:00 2016-01-06 17:19:00  ...     1  Wednesday\n",
              "\n",
              "[5 rows x 12 columns]"
            ]
          },
          "metadata": {},
          "execution_count": 14
        }
      ]
    },
    {
      "cell_type": "markdown",
      "metadata": {
        "id": "HtKW7SrevRtd"
      },
      "source": [
        "##**Categories We Have**"
      ]
    },
    {
      "cell_type": "code",
      "metadata": {
        "colab": {
          "base_uri": "https://localhost:8080/"
        },
        "id": "WMnBWxYIv6fX",
        "outputId": "e90ce16b-89f9-49ec-d547-b4525803624f"
      },
      "source": [
        "data['CATEGORY*'].value_counts()"
      ],
      "execution_count": null,
      "outputs": [
        {
          "output_type": "execute_result",
          "data": {
            "text/plain": [
              "Business    647\n",
              "Personal      6\n",
              "Name: CATEGORY*, dtype: int64"
            ]
          },
          "metadata": {},
          "execution_count": 15
        }
      ]
    },
    {
      "cell_type": "code",
      "metadata": {
        "colab": {
          "base_uri": "https://localhost:8080/",
          "height": 296
        },
        "id": "bYwe8EUNuXV5",
        "outputId": "98d3ea94-3c14-4fc6-9f58-09d4d48c104a"
      },
      "source": [
        "sns.countplot(x='CATEGORY*',data=data)"
      ],
      "execution_count": null,
      "outputs": [
        {
          "output_type": "execute_result",
          "data": {
            "text/plain": [
              "<matplotlib.axes._subplots.AxesSubplot at 0x7f23d20c4a50>"
            ]
          },
          "metadata": {},
          "execution_count": 16
        },
        {
          "output_type": "display_data",
          "data": {
            "image/png": "[encoded data removed]",
            "text/plain": [
              "<Figure size 432x288 with 1 Axes>"
            ]
          },
          "metadata": {
            "needs_background": "light"
          }
        }
      ]
    },
    {
      "cell_type": "markdown",
      "metadata": {
        "id": "lUsUpRYLwAnV"
      },
      "source": [
        "We have large number of business rides caegory as against very few personal rides."
      ]
    },
    {
      "cell_type": "markdown",
      "metadata": {
        "id": "wVhSlOZjwYfc"
      },
      "source": [
        "##**How long do people travel with Uber?**\n",
        "##Histogram for miles. Most of people not having a long trip\n"
      ]
    },
    {
      "cell_type": "code",
      "metadata": {
        "colab": {
          "base_uri": "https://localhost:8080/",
          "height": 282
        },
        "id": "yvZcYsTuvnJi",
        "outputId": "a4ddedc9-fddf-4111-9bc8-88645a9f5208"
      },
      "source": [
        "data['MILES*'].plot.hist()"
      ],
      "execution_count": null,
      "outputs": [
        {
          "output_type": "execute_result",
          "data": {
            "text/plain": [
              "<matplotlib.axes._subplots.AxesSubplot at 0x7f23c7729990>"
            ]
          },
          "metadata": {},
          "execution_count": 17
        },
        {
          "output_type": "display_data",
          "data": {
            "image/png": "[encoded data removed]",
            "text/plain": [
              "<Figure size 432x288 with 1 Axes>"
            ]
          },
          "metadata": {
            "needs_background": "light"
          }
        }
      ]
    },
    {
      "cell_type": "markdown",
      "metadata": {
        "id": "u3WstUd5wgAF"
      },
      "source": [
        "mostly people travel in a short mile with Uber. "
      ]
    },
    {
      "cell_type": "markdown",
      "metadata": {
        "id": "SDwy8GC9yk4-"
      },
      "source": [
        "##**What Hour Do Most People Take Uber To Their Destination?**"
      ]
    },
    {
      "cell_type": "code",
      "metadata": {
        "colab": {
          "base_uri": "https://localhost:8080/",
          "height": 369
        },
        "id": "Gu5wG0j8weFy",
        "outputId": "994c3139-0fb6-4b3a-958b-aa7261b695f4"
      },
      "source": [
        "hours = data['START_DATE*'].dt.hour.value_counts()\n",
        "hours.plot(kind='bar',color='red',figsize=(10,5))\n",
        "plt.xlabel('Hours')\n",
        "plt.ylabel('Frequency')\n",
        "plt.title('Number of trips Vs hours')"
      ],
      "execution_count": null,
      "outputs": [
        {
          "output_type": "execute_result",
          "data": {
            "text/plain": [
              "Text(0.5, 1.0, 'Number of trips Vs hours')"
            ]
          },
          "metadata": {},
          "execution_count": 18
        },
        {
          "output_type": "display_data",
          "data": {
            "image/png": "[encoded data removed]",
            "text/plain": [
              "<Figure size 720x360 with 1 Axes>"
            ]
          },
          "metadata": {
            "needs_background": "light"
          }
        }
      ]
    },
    {
      "cell_type": "markdown",
      "metadata": {
        "id": "96KE4-LOyLAv"
      },
      "source": [
        "As we can see most people take Uber to their destination around the 13th hour(1pm) and the least hour is 2 am."
      ]
    },
    {
      "cell_type": "markdown",
      "metadata": {
        "id": "Ox1kpa4rSM2a"
      },
      "source": [
        "#**Check The Purpose Of Trips**"
      ]
    },
    {
      "cell_type": "code",
      "metadata": {
        "colab": {
          "base_uri": "https://localhost:8080/",
          "height": 408
        },
        "id": "cSuweXCPxQfw",
        "outputId": "afa09691-1a4f-4059-9bf1-9b2166e09fb8"
      },
      "source": [
        "data['PURPOSE*'].value_counts().plot(kind='bar',figsize=(10,5),color='brown')"
      ],
      "execution_count": null,
      "outputs": [
        {
          "output_type": "execute_result",
          "data": {
            "text/plain": [
              "<matplotlib.axes._subplots.AxesSubplot at 0x7f23c76b0a90>"
            ]
          },
          "metadata": {},
          "execution_count": 19
        },
        {
          "output_type": "display_data",
          "data": {
            "image/png": "[encoded data removed]",
            "text/plain": [
              "<Figure size 720x360 with 1 Axes>"
            ]
          },
          "metadata": {
            "needs_background": "light"
          }
        }
      ]
    },
    {
      "cell_type": "markdown",
      "metadata": {
        "id": "xamGGtZUG3PA"
      },
      "source": [
        "We can notice that mostly the purpose of the trip is meeting and meal/entertain."
      ]
    },
    {
      "cell_type": "markdown",
      "metadata": {
        "id": "m_HS_2h-Hjz7"
      },
      "source": [
        "##**Which Day Has The Highest Number Of Trips**"
      ]
    },
    {
      "cell_type": "code",
      "metadata": {
        "colab": {
          "base_uri": "https://localhost:8080/",
          "height": 385
        },
        "id": "oMbw9lSxG2Vl",
        "outputId": "453ea0c1-8958-4886-ef8b-d9483b3164ff"
      },
      "source": [
        "data['WEEKDAY'].value_counts().plot(kind='bar',figsize=(10,5),color='blue')"
      ],
      "execution_count": null,
      "outputs": [
        {
          "output_type": "execute_result",
          "data": {
            "text/plain": [
              "<matplotlib.axes._subplots.AxesSubplot at 0x7f23c75acf50>"
            ]
          },
          "metadata": {},
          "execution_count": 20
        },
        {
          "output_type": "display_data",
          "data": {
            "image/png": "[encoded data removed]",
            "text/plain": [
              "<Figure size 720x360 with 1 Axes>"
            ]
          },
          "metadata": {
            "needs_background": "light"
          }
        }
      ]
    },
    {
      "cell_type": "markdown",
      "metadata": {
        "id": "4RWCFIfLAP80"
      },
      "source": [
        "So Friday has the highest number of Trips."
      ]
    },
    {
      "cell_type": "markdown",
      "metadata": {
        "id": "s__XVvP064Lq"
      },
      "source": [
        "##**What Are The Number Of Trips Per Each Day?**"
      ]
    },
    {
      "cell_type": "code",
      "metadata": {
        "colab": {
          "base_uri": "https://localhost:8080/",
          "height": 339
        },
        "id": "icHvEbmyG2Sh",
        "outputId": "271cc132-7200-40d1-e194-5b3721fe003c"
      },
      "source": [
        "data['DAY'].value_counts().plot(kind='bar',figsize=(10,5),color='green')"
      ],
      "execution_count": null,
      "outputs": [
        {
          "output_type": "execute_result",
          "data": {
            "text/plain": [
              "<matplotlib.axes._subplots.AxesSubplot at 0x7f23d1806e50>"
            ]
          },
          "metadata": {},
          "execution_count": 21
        },
        {
          "output_type": "display_data",
          "data": {
            "image/png": "[encoded data removed]",
            "text/plain": [
              "<Figure size 720x360 with 1 Axes>"
            ]
          },
          "metadata": {
            "needs_background": "light"
          }
        }
      ]
    },
    {
      "cell_type": "markdown",
      "metadata": {
        "id": "PoN0_6cY8ky_"
      },
      "source": [
        "##**What Are The Trips In The Month**"
      ]
    },
    {
      "cell_type": "code",
      "metadata": {
        "colab": {
          "base_uri": "https://localhost:8080/",
          "height": 342
        },
        "id": "O8cugzJaG2PM",
        "outputId": "0b9b34cf-8bde-46fa-886d-b3e4d15d4bab"
      },
      "source": [
        "data['MONTH'].value_counts().plot(kind='bar',figsize=(10,5),color='black')"
      ],
      "execution_count": null,
      "outputs": [
        {
          "output_type": "execute_result",
          "data": {
            "text/plain": [
              "<matplotlib.axes._subplots.AxesSubplot at 0x7f23c74b1210>"
            ]
          },
          "metadata": {},
          "execution_count": 22
        },
        {
          "output_type": "display_data",
          "data": {
            "image/png": "[encoded data removed]",
            "text/plain": [
              "<Figure size 720x360 with 1 Axes>"
            ]
          },
          "metadata": {
            "needs_background": "light"
          }
        }
      ]
    },
    {
      "cell_type": "markdown",
      "metadata": {
        "id": "zNDYjjZp_Efl"
      },
      "source": [
        "We can see that December(12) has the most trips."
      ]
    },
    {
      "cell_type": "markdown",
      "metadata": {
        "id": "Dif_1w5--k7e"
      },
      "source": [
        "##**The starting points of trips. Where Do People Start Boarding Their Trip From Most?**"
      ]
    },
    {
      "cell_type": "code",
      "metadata": {
        "colab": {
          "base_uri": "https://localhost:8080/",
          "height": 640
        },
        "id": "lUUURXrE9G1g",
        "outputId": "9c05c2d7-2236-44e2-c0dc-9f2bd0340ea2"
      },
      "source": [
        "data['START*'].value_counts().plot(kind='bar',figsize=(25,10),color='blue')"
      ],
      "execution_count": null,
      "outputs": [
        {
          "output_type": "execute_result",
          "data": {
            "text/plain": [
              "<matplotlib.axes._subplots.AxesSubplot at 0x7f23c73c19d0>"
            ]
          },
          "metadata": {},
          "execution_count": 23
        },
        {
          "output_type": "display_data",
          "data": {
            "image/png": "[encoded data removed]",
            "text/plain": [
              "<Figure size 1800x720 with 1 Axes>"
            ]
          },
          "metadata": {
            "needs_background": "light"
          }
        }
      ]
    },
    {
      "cell_type": "markdown",
      "metadata": {
        "id": "0DYy3fpsAj2V"
      },
      "source": [
        "Most people in this dataset starts their journey from **Cary** followed by some unknown location and then Morrisville."
      ]
    },
    {
      "cell_type": "code",
      "metadata": {
        "colab": {
          "base_uri": "https://localhost:8080/",
          "height": 422
        },
        "id": "QAdvDuWkyQfE",
        "outputId": "b889792b-87ef-4100-85fe-1e89faa98072"
      },
      "source": [
        "data.groupby('PURPOSE*').mean().plot(kind='bar', figsize=(15,5))"
      ],
      "execution_count": null,
      "outputs": [
        {
          "output_type": "execute_result",
          "data": {
            "text/plain": [
              "<matplotlib.axes._subplots.AxesSubplot at 0x7f23c52fc510>"
            ]
          },
          "metadata": {},
          "execution_count": 31
        },
        {
          "output_type": "display_data",
          "data": {
            "image/png": "[encoded data removed]",
            "text/plain": [
              "<Figure size 1080x360 with 1 Axes>"
            ]
          },
          "metadata": {
            "needs_background": "light"
          }
        }
      ]
    }
  ]
}